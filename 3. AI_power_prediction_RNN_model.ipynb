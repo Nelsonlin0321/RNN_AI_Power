{
 "cells": [
  {
   "cell_type": "code",
   "execution_count": 1,
   "metadata": {},
   "outputs": [],
   "source": [
    "from sklearn import preprocessing\n",
    "import numpy as np\n",
    "import pandas as pd"
   ]
  },
  {
   "cell_type": "code",
   "execution_count": 2,
   "metadata": {},
   "outputs": [],
   "source": [
    "data_1 = pd.read_csv('input/zhenjiang_power.csv')"
   ]
  },
  {
   "cell_type": "code",
   "execution_count": 3,
   "metadata": {},
   "outputs": [
    {
     "data": {
      "text/html": [
       "<div>\n",
       "<style scoped>\n",
       "    .dataframe tbody tr th:only-of-type {\n",
       "        vertical-align: middle;\n",
       "    }\n",
       "\n",
       "    .dataframe tbody tr th {\n",
       "        vertical-align: top;\n",
       "    }\n",
       "\n",
       "    .dataframe thead th {\n",
       "        text-align: right;\n",
       "    }\n",
       "</style>\n",
       "<table border=\"1\" class=\"dataframe\">\n",
       "  <thead>\n",
       "    <tr style=\"text-align: right;\">\n",
       "      <th></th>\n",
       "      <th>user_id</th>\n",
       "      <th>record_date</th>\n",
       "      <th>power_consumption</th>\n",
       "    </tr>\n",
       "  </thead>\n",
       "  <tbody>\n",
       "    <tr>\n",
       "      <th>0</th>\n",
       "      <td>1</td>\n",
       "      <td>2015-01-01</td>\n",
       "      <td>1135.0</td>\n",
       "    </tr>\n",
       "    <tr>\n",
       "      <th>1</th>\n",
       "      <td>1</td>\n",
       "      <td>2015-01-02</td>\n",
       "      <td>570.0</td>\n",
       "    </tr>\n",
       "    <tr>\n",
       "      <th>2</th>\n",
       "      <td>1</td>\n",
       "      <td>2015-01-03</td>\n",
       "      <td>3418.0</td>\n",
       "    </tr>\n",
       "    <tr>\n",
       "      <th>3</th>\n",
       "      <td>1</td>\n",
       "      <td>2015-01-04</td>\n",
       "      <td>3968.0</td>\n",
       "    </tr>\n",
       "    <tr>\n",
       "      <th>4</th>\n",
       "      <td>1</td>\n",
       "      <td>2015-01-05</td>\n",
       "      <td>3986.0</td>\n",
       "    </tr>\n",
       "  </tbody>\n",
       "</table>\n",
       "</div>"
      ],
      "text/plain": [
       "   user_id record_date  power_consumption\n",
       "0        1  2015-01-01             1135.0\n",
       "1        1  2015-01-02              570.0\n",
       "2        1  2015-01-03             3418.0\n",
       "3        1  2015-01-04             3968.0\n",
       "4        1  2015-01-05             3986.0"
      ]
     },
     "execution_count": 3,
     "metadata": {},
     "output_type": "execute_result"
    }
   ],
   "source": [
    "data_1.head()"
   ]
  },
  {
   "cell_type": "code",
   "execution_count": 4,
   "metadata": {},
   "outputs": [],
   "source": [
    "data_2 = pd.read_csv('input/zhenjiang_power_9.csv')"
   ]
  },
  {
   "cell_type": "code",
   "execution_count": 5,
   "metadata": {},
   "outputs": [
    {
     "data": {
      "text/html": [
       "<div>\n",
       "<style scoped>\n",
       "    .dataframe tbody tr th:only-of-type {\n",
       "        vertical-align: middle;\n",
       "    }\n",
       "\n",
       "    .dataframe tbody tr th {\n",
       "        vertical-align: top;\n",
       "    }\n",
       "\n",
       "    .dataframe thead th {\n",
       "        text-align: right;\n",
       "    }\n",
       "</style>\n",
       "<table border=\"1\" class=\"dataframe\">\n",
       "  <thead>\n",
       "    <tr style=\"text-align: right;\">\n",
       "      <th></th>\n",
       "      <th>record_date</th>\n",
       "      <th>user_id</th>\n",
       "      <th>power_consumption</th>\n",
       "    </tr>\n",
       "  </thead>\n",
       "  <tbody>\n",
       "    <tr>\n",
       "      <th>0</th>\n",
       "      <td>2016/9/2</td>\n",
       "      <td>20</td>\n",
       "      <td>1</td>\n",
       "    </tr>\n",
       "    <tr>\n",
       "      <th>1</th>\n",
       "      <td>2016/9/3</td>\n",
       "      <td>20</td>\n",
       "      <td>1</td>\n",
       "    </tr>\n",
       "    <tr>\n",
       "      <th>2</th>\n",
       "      <td>2016/9/4</td>\n",
       "      <td>20</td>\n",
       "      <td>1</td>\n",
       "    </tr>\n",
       "    <tr>\n",
       "      <th>3</th>\n",
       "      <td>2016/9/1</td>\n",
       "      <td>49</td>\n",
       "      <td>1</td>\n",
       "    </tr>\n",
       "    <tr>\n",
       "      <th>4</th>\n",
       "      <td>2016/9/2</td>\n",
       "      <td>49</td>\n",
       "      <td>1</td>\n",
       "    </tr>\n",
       "  </tbody>\n",
       "</table>\n",
       "</div>"
      ],
      "text/plain": [
       "  record_date  user_id  power_consumption\n",
       "0    2016/9/2       20                  1\n",
       "1    2016/9/3       20                  1\n",
       "2    2016/9/4       20                  1\n",
       "3    2016/9/1       49                  1\n",
       "4    2016/9/2       49                  1"
      ]
     },
     "execution_count": 5,
     "metadata": {},
     "output_type": "execute_result"
    }
   ],
   "source": [
    "data_2.head()"
   ]
  },
  {
   "cell_type": "code",
   "execution_count": 6,
   "metadata": {},
   "outputs": [],
   "source": [
    "train_df = pd.concat([data_1,data_2])"
   ]
  },
  {
   "cell_type": "code",
   "execution_count": 7,
   "metadata": {},
   "outputs": [],
   "source": [
    "train_df.loc[:,'record_date'] = pd.to_datetime(train_df['record_date'])"
   ]
  },
  {
   "cell_type": "code",
   "execution_count": 8,
   "metadata": {},
   "outputs": [],
   "source": [
    "train_df = train_df[['record_date', 'power_consumption']].groupby('record_date').agg('sum')"
   ]
  },
  {
   "cell_type": "code",
   "execution_count": 9,
   "metadata": {},
   "outputs": [
    {
     "data": {
      "text/html": [
       "<div>\n",
       "<style scoped>\n",
       "    .dataframe tbody tr th:only-of-type {\n",
       "        vertical-align: middle;\n",
       "    }\n",
       "\n",
       "    .dataframe tbody tr th {\n",
       "        vertical-align: top;\n",
       "    }\n",
       "\n",
       "    .dataframe thead th {\n",
       "        text-align: right;\n",
       "    }\n",
       "</style>\n",
       "<table border=\"1\" class=\"dataframe\">\n",
       "  <thead>\n",
       "    <tr style=\"text-align: right;\">\n",
       "      <th></th>\n",
       "      <th>record_date</th>\n",
       "      <th>power_consumption</th>\n",
       "    </tr>\n",
       "  </thead>\n",
       "  <tbody>\n",
       "    <tr>\n",
       "      <th>0</th>\n",
       "      <td>2015-01-01</td>\n",
       "      <td>2900575.0</td>\n",
       "    </tr>\n",
       "    <tr>\n",
       "      <th>1</th>\n",
       "      <td>2015-01-02</td>\n",
       "      <td>3158211.0</td>\n",
       "    </tr>\n",
       "    <tr>\n",
       "      <th>2</th>\n",
       "      <td>2015-01-03</td>\n",
       "      <td>3596487.0</td>\n",
       "    </tr>\n",
       "    <tr>\n",
       "      <th>3</th>\n",
       "      <td>2015-01-04</td>\n",
       "      <td>3939672.0</td>\n",
       "    </tr>\n",
       "    <tr>\n",
       "      <th>4</th>\n",
       "      <td>2015-01-05</td>\n",
       "      <td>4101790.0</td>\n",
       "    </tr>\n",
       "  </tbody>\n",
       "</table>\n",
       "</div>"
      ],
      "text/plain": [
       "  record_date  power_consumption\n",
       "0  2015-01-01          2900575.0\n",
       "1  2015-01-02          3158211.0\n",
       "2  2015-01-03          3596487.0\n",
       "3  2015-01-04          3939672.0\n",
       "4  2015-01-05          4101790.0"
      ]
     },
     "execution_count": 9,
     "metadata": {},
     "output_type": "execute_result"
    }
   ],
   "source": [
    "train_df = train_df.reset_index()\n",
    "train_df.head()"
   ]
  },
  {
   "cell_type": "markdown",
   "metadata": {},
   "source": [
    "#### Feature Engineer"
   ]
  },
  {
   "cell_type": "code",
   "execution_count": 10,
   "metadata": {},
   "outputs": [],
   "source": [
    "total_df=train_df"
   ]
  },
  {
   "cell_type": "code",
   "execution_count": 11,
   "metadata": {},
   "outputs": [],
   "source": [
    "total_df.loc[:,'dow'] = total_df['record_date'].apply(lambda x:x.dayofweek)\n",
    "total_df.loc[:,'dom'] = total_df['record_date'].apply(lambda x:x.day)\n",
    "total_df.loc[:,'month'] = total_df['record_date'].apply(lambda x:x.month)\n",
    "total_df.loc[:,'year'] = total_df['record_date'].apply(lambda x:x.year)"
   ]
  },
  {
   "cell_type": "code",
   "execution_count": 12,
   "metadata": {},
   "outputs": [
    {
     "data": {
      "text/html": [
       "<div>\n",
       "<style scoped>\n",
       "    .dataframe tbody tr th:only-of-type {\n",
       "        vertical-align: middle;\n",
       "    }\n",
       "\n",
       "    .dataframe tbody tr th {\n",
       "        vertical-align: top;\n",
       "    }\n",
       "\n",
       "    .dataframe thead th {\n",
       "        text-align: right;\n",
       "    }\n",
       "</style>\n",
       "<table border=\"1\" class=\"dataframe\">\n",
       "  <thead>\n",
       "    <tr style=\"text-align: right;\">\n",
       "      <th></th>\n",
       "      <th>record_date</th>\n",
       "      <th>power_consumption</th>\n",
       "      <th>dow</th>\n",
       "      <th>dom</th>\n",
       "      <th>month</th>\n",
       "      <th>year</th>\n",
       "    </tr>\n",
       "  </thead>\n",
       "  <tbody>\n",
       "    <tr>\n",
       "      <th>634</th>\n",
       "      <td>2016-09-26</td>\n",
       "      <td>4042132.0</td>\n",
       "      <td>0</td>\n",
       "      <td>26</td>\n",
       "      <td>9</td>\n",
       "      <td>2016</td>\n",
       "    </tr>\n",
       "    <tr>\n",
       "      <th>635</th>\n",
       "      <td>2016-09-27</td>\n",
       "      <td>4287965.0</td>\n",
       "      <td>1</td>\n",
       "      <td>27</td>\n",
       "      <td>9</td>\n",
       "      <td>2016</td>\n",
       "    </tr>\n",
       "    <tr>\n",
       "      <th>636</th>\n",
       "      <td>2016-09-28</td>\n",
       "      <td>4086998.0</td>\n",
       "      <td>2</td>\n",
       "      <td>28</td>\n",
       "      <td>9</td>\n",
       "      <td>2016</td>\n",
       "    </tr>\n",
       "    <tr>\n",
       "      <th>637</th>\n",
       "      <td>2016-09-29</td>\n",
       "      <td>3941842.0</td>\n",
       "      <td>3</td>\n",
       "      <td>29</td>\n",
       "      <td>9</td>\n",
       "      <td>2016</td>\n",
       "    </tr>\n",
       "    <tr>\n",
       "      <th>638</th>\n",
       "      <td>2016-09-30</td>\n",
       "      <td>3783264.0</td>\n",
       "      <td>4</td>\n",
       "      <td>30</td>\n",
       "      <td>9</td>\n",
       "      <td>2016</td>\n",
       "    </tr>\n",
       "  </tbody>\n",
       "</table>\n",
       "</div>"
      ],
      "text/plain": [
       "    record_date  power_consumption  dow  dom  month  year\n",
       "634  2016-09-26          4042132.0    0   26      9  2016\n",
       "635  2016-09-27          4287965.0    1   27      9  2016\n",
       "636  2016-09-28          4086998.0    2   28      9  2016\n",
       "637  2016-09-29          3941842.0    3   29      9  2016\n",
       "638  2016-09-30          3783264.0    4   30      9  2016"
      ]
     },
     "execution_count": 12,
     "metadata": {},
     "output_type": "execute_result"
    }
   ],
   "source": [
    "total_df.tail()"
   ]
  },
  {
   "cell_type": "code",
   "execution_count": 13,
   "metadata": {},
   "outputs": [],
   "source": [
    "total_df.loc[:,'weekend'] = 0\n",
    "total_df.loc[:,'weekend_sat'] = 0\n",
    "total_df.loc[:,'weekend_sun'] = 0"
   ]
  },
  {
   "cell_type": "code",
   "execution_count": 14,
   "metadata": {},
   "outputs": [],
   "source": [
    "total_df.loc[(total_df['dow']>4),'weekend'] = 1\n",
    "total_df.loc[(total_df['dow']==5),'weekend_sat'] = 1\n",
    "total_df.loc[(total_df['dow']==6),'weekend_sun'] =1"
   ]
  },
  {
   "cell_type": "code",
   "execution_count": 15,
   "metadata": {},
   "outputs": [
    {
     "data": {
      "text/html": [
       "<div>\n",
       "<style scoped>\n",
       "    .dataframe tbody tr th:only-of-type {\n",
       "        vertical-align: middle;\n",
       "    }\n",
       "\n",
       "    .dataframe tbody tr th {\n",
       "        vertical-align: top;\n",
       "    }\n",
       "\n",
       "    .dataframe thead th {\n",
       "        text-align: right;\n",
       "    }\n",
       "</style>\n",
       "<table border=\"1\" class=\"dataframe\">\n",
       "  <thead>\n",
       "    <tr style=\"text-align: right;\">\n",
       "      <th></th>\n",
       "      <th>record_date</th>\n",
       "      <th>power_consumption</th>\n",
       "      <th>dow</th>\n",
       "      <th>dom</th>\n",
       "      <th>month</th>\n",
       "      <th>year</th>\n",
       "      <th>weekend</th>\n",
       "      <th>weekend_sat</th>\n",
       "      <th>weekend_sun</th>\n",
       "    </tr>\n",
       "  </thead>\n",
       "  <tbody>\n",
       "    <tr>\n",
       "      <th>0</th>\n",
       "      <td>2015-01-01</td>\n",
       "      <td>2900575.0</td>\n",
       "      <td>3</td>\n",
       "      <td>1</td>\n",
       "      <td>1</td>\n",
       "      <td>2015</td>\n",
       "      <td>0</td>\n",
       "      <td>0</td>\n",
       "      <td>0</td>\n",
       "    </tr>\n",
       "    <tr>\n",
       "      <th>1</th>\n",
       "      <td>2015-01-02</td>\n",
       "      <td>3158211.0</td>\n",
       "      <td>4</td>\n",
       "      <td>2</td>\n",
       "      <td>1</td>\n",
       "      <td>2015</td>\n",
       "      <td>0</td>\n",
       "      <td>0</td>\n",
       "      <td>0</td>\n",
       "    </tr>\n",
       "    <tr>\n",
       "      <th>2</th>\n",
       "      <td>2015-01-03</td>\n",
       "      <td>3596487.0</td>\n",
       "      <td>5</td>\n",
       "      <td>3</td>\n",
       "      <td>1</td>\n",
       "      <td>2015</td>\n",
       "      <td>1</td>\n",
       "      <td>1</td>\n",
       "      <td>0</td>\n",
       "    </tr>\n",
       "    <tr>\n",
       "      <th>3</th>\n",
       "      <td>2015-01-04</td>\n",
       "      <td>3939672.0</td>\n",
       "      <td>6</td>\n",
       "      <td>4</td>\n",
       "      <td>1</td>\n",
       "      <td>2015</td>\n",
       "      <td>1</td>\n",
       "      <td>0</td>\n",
       "      <td>1</td>\n",
       "    </tr>\n",
       "    <tr>\n",
       "      <th>4</th>\n",
       "      <td>2015-01-05</td>\n",
       "      <td>4101790.0</td>\n",
       "      <td>0</td>\n",
       "      <td>5</td>\n",
       "      <td>1</td>\n",
       "      <td>2015</td>\n",
       "      <td>0</td>\n",
       "      <td>0</td>\n",
       "      <td>0</td>\n",
       "    </tr>\n",
       "  </tbody>\n",
       "</table>\n",
       "</div>"
      ],
      "text/plain": [
       "  record_date  power_consumption  dow  dom  month  year  weekend  weekend_sat  \\\n",
       "0  2015-01-01          2900575.0    3    1      1  2015        0            0   \n",
       "1  2015-01-02          3158211.0    4    2      1  2015        0            0   \n",
       "2  2015-01-03          3596487.0    5    3      1  2015        1            1   \n",
       "3  2015-01-04          3939672.0    6    4      1  2015        1            0   \n",
       "4  2015-01-05          4101790.0    0    5      1  2015        0            0   \n",
       "\n",
       "   weekend_sun  \n",
       "0            0  \n",
       "1            0  \n",
       "2            0  \n",
       "3            1  \n",
       "4            0  "
      ]
     },
     "execution_count": 15,
     "metadata": {},
     "output_type": "execute_result"
    }
   ],
   "source": [
    "total_df.head()"
   ]
  },
  {
   "cell_type": "code",
   "execution_count": 16,
   "metadata": {},
   "outputs": [],
   "source": [
    "def week_of_month(day):\n",
    "    if day in range(1,8):\n",
    "        return 1\n",
    "    if day in range(8,15):\n",
    "        return 2\n",
    "    if day in range(15,22):\n",
    "        return 3\n",
    "    else:\n",
    "        return 4\n",
    "total_df.loc[:,'week_of_month'] = total_df['dom'].apply(lambda x:week_of_month(x))"
   ]
  },
  {
   "cell_type": "code",
   "execution_count": 17,
   "metadata": {},
   "outputs": [],
   "source": [
    "def period_of_month(day):\n",
    "    if day in range(1,11):\n",
    "        return 1\n",
    "    if day in range(11,21):\n",
    "        return 2\n",
    "    else:\n",
    "        return 3\n",
    "total_df.loc[:,'period_of_month'] = total_df['dom'].apply(lambda x:period_of_month(x))"
   ]
  },
  {
   "cell_type": "code",
   "execution_count": 18,
   "metadata": {},
   "outputs": [],
   "source": [
    "def period2_of_month(day):\n",
    "    if day in range(1,16):\n",
    "        return 1\n",
    "    else:\n",
    "        return 2\n",
    "total_df.loc[:,'period2_of_month'] = total_df['dom'].apply(lambda x:period2_of_month(x))"
   ]
  },
  {
   "cell_type": "code",
   "execution_count": 19,
   "metadata": {},
   "outputs": [],
   "source": [
    "total_df['Holiday']=0"
   ]
  },
  {
   "cell_type": "code",
   "execution_count": 20,
   "metadata": {},
   "outputs": [],
   "source": [
    "### 国庆法定假期\n",
    "total_df.loc[(total_df.month==10)&(total_df.dom<8), 'Holiday']=1"
   ]
  },
  {
   "cell_type": "code",
   "execution_count": 21,
   "metadata": {},
   "outputs": [],
   "source": [
    "import pandas as pd\n",
    "from pandas.tseries.holiday import USFederalHolidayCalendar as calendar\n",
    "\n",
    "# create the object of calendar\n",
    "cal = calendar()\n",
    "# create the date list of holidys\n",
    "holidays = cal.holidays(start=total_df['record_date'].min(), end=total_df['record_date'].max())"
   ]
  },
  {
   "cell_type": "code",
   "execution_count": 22,
   "metadata": {},
   "outputs": [],
   "source": [
    "total_df['Holiday'] = np.where(total_df['record_date'].isin(holidays),1,total_df['Holiday'] )"
   ]
  },
  {
   "cell_type": "code",
   "execution_count": 23,
   "metadata": {},
   "outputs": [
    {
     "data": {
      "text/plain": [
       "Index(['record_date', 'power_consumption', 'dow', 'dom', 'month', 'year',\n",
       "       'weekend', 'weekend_sat', 'weekend_sun', 'week_of_month',\n",
       "       'period_of_month', 'period2_of_month', 'Holiday'],\n",
       "      dtype='object')"
      ]
     },
     "execution_count": 23,
     "metadata": {},
     "output_type": "execute_result"
    }
   ],
   "source": [
    "total_df.columns"
   ]
  },
  {
   "cell_type": "code",
   "execution_count": 24,
   "metadata": {},
   "outputs": [
    {
     "data": {
      "text/plain": [
       "11"
      ]
     },
     "execution_count": 24,
     "metadata": {},
     "output_type": "execute_result"
    }
   ],
   "source": [
    "var_to_encoding = [ u'dow', u'dom', u'month', u'year',\n",
    "       u'weekend', u'weekend_sat', u'weekend_sun', u'week_of_month',\n",
    "       u'period_of_month', u'period2_of_month', u'Holiday']\n",
    "len(var_to_encoding)"
   ]
  },
  {
   "cell_type": "code",
   "execution_count": 25,
   "metadata": {},
   "outputs": [],
   "source": [
    "dummy_df = pd.get_dummies(total_df,columns = var_to_encoding)\n",
    "### get_dummies(DateFrame, columns)"
   ]
  },
  {
   "cell_type": "markdown",
   "metadata": {},
   "source": [
    "### 特征工程 完成"
   ]
  },
  {
   "cell_type": "code",
   "execution_count": 26,
   "metadata": {},
   "outputs": [
    {
     "data": {
      "text/html": [
       "<div>\n",
       "<style scoped>\n",
       "    .dataframe tbody tr th:only-of-type {\n",
       "        vertical-align: middle;\n",
       "    }\n",
       "\n",
       "    .dataframe tbody tr th {\n",
       "        vertical-align: top;\n",
       "    }\n",
       "\n",
       "    .dataframe thead th {\n",
       "        text-align: right;\n",
       "    }\n",
       "</style>\n",
       "<table border=\"1\" class=\"dataframe\">\n",
       "  <thead>\n",
       "    <tr style=\"text-align: right;\">\n",
       "      <th></th>\n",
       "      <th>record_date</th>\n",
       "      <th>power_consumption</th>\n",
       "      <th>dow_0</th>\n",
       "      <th>dow_1</th>\n",
       "      <th>dow_2</th>\n",
       "      <th>dow_3</th>\n",
       "      <th>dow_4</th>\n",
       "      <th>dow_5</th>\n",
       "      <th>dow_6</th>\n",
       "      <th>dom_1</th>\n",
       "      <th>...</th>\n",
       "      <th>week_of_month_2</th>\n",
       "      <th>week_of_month_3</th>\n",
       "      <th>week_of_month_4</th>\n",
       "      <th>period_of_month_1</th>\n",
       "      <th>period_of_month_2</th>\n",
       "      <th>period_of_month_3</th>\n",
       "      <th>period2_of_month_1</th>\n",
       "      <th>period2_of_month_2</th>\n",
       "      <th>Holiday_0</th>\n",
       "      <th>Holiday_1</th>\n",
       "    </tr>\n",
       "  </thead>\n",
       "  <tbody>\n",
       "    <tr>\n",
       "      <th>0</th>\n",
       "      <td>2015-01-01</td>\n",
       "      <td>2900575.0</td>\n",
       "      <td>0</td>\n",
       "      <td>0</td>\n",
       "      <td>0</td>\n",
       "      <td>1</td>\n",
       "      <td>0</td>\n",
       "      <td>0</td>\n",
       "      <td>0</td>\n",
       "      <td>1</td>\n",
       "      <td>...</td>\n",
       "      <td>0</td>\n",
       "      <td>0</td>\n",
       "      <td>0</td>\n",
       "      <td>1</td>\n",
       "      <td>0</td>\n",
       "      <td>0</td>\n",
       "      <td>1</td>\n",
       "      <td>0</td>\n",
       "      <td>0</td>\n",
       "      <td>1</td>\n",
       "    </tr>\n",
       "    <tr>\n",
       "      <th>1</th>\n",
       "      <td>2015-01-02</td>\n",
       "      <td>3158211.0</td>\n",
       "      <td>0</td>\n",
       "      <td>0</td>\n",
       "      <td>0</td>\n",
       "      <td>0</td>\n",
       "      <td>1</td>\n",
       "      <td>0</td>\n",
       "      <td>0</td>\n",
       "      <td>0</td>\n",
       "      <td>...</td>\n",
       "      <td>0</td>\n",
       "      <td>0</td>\n",
       "      <td>0</td>\n",
       "      <td>1</td>\n",
       "      <td>0</td>\n",
       "      <td>0</td>\n",
       "      <td>1</td>\n",
       "      <td>0</td>\n",
       "      <td>1</td>\n",
       "      <td>0</td>\n",
       "    </tr>\n",
       "    <tr>\n",
       "      <th>2</th>\n",
       "      <td>2015-01-03</td>\n",
       "      <td>3596487.0</td>\n",
       "      <td>0</td>\n",
       "      <td>0</td>\n",
       "      <td>0</td>\n",
       "      <td>0</td>\n",
       "      <td>0</td>\n",
       "      <td>1</td>\n",
       "      <td>0</td>\n",
       "      <td>0</td>\n",
       "      <td>...</td>\n",
       "      <td>0</td>\n",
       "      <td>0</td>\n",
       "      <td>0</td>\n",
       "      <td>1</td>\n",
       "      <td>0</td>\n",
       "      <td>0</td>\n",
       "      <td>1</td>\n",
       "      <td>0</td>\n",
       "      <td>1</td>\n",
       "      <td>0</td>\n",
       "    </tr>\n",
       "    <tr>\n",
       "      <th>3</th>\n",
       "      <td>2015-01-04</td>\n",
       "      <td>3939672.0</td>\n",
       "      <td>0</td>\n",
       "      <td>0</td>\n",
       "      <td>0</td>\n",
       "      <td>0</td>\n",
       "      <td>0</td>\n",
       "      <td>0</td>\n",
       "      <td>1</td>\n",
       "      <td>0</td>\n",
       "      <td>...</td>\n",
       "      <td>0</td>\n",
       "      <td>0</td>\n",
       "      <td>0</td>\n",
       "      <td>1</td>\n",
       "      <td>0</td>\n",
       "      <td>0</td>\n",
       "      <td>1</td>\n",
       "      <td>0</td>\n",
       "      <td>1</td>\n",
       "      <td>0</td>\n",
       "    </tr>\n",
       "    <tr>\n",
       "      <th>4</th>\n",
       "      <td>2015-01-05</td>\n",
       "      <td>4101790.0</td>\n",
       "      <td>1</td>\n",
       "      <td>0</td>\n",
       "      <td>0</td>\n",
       "      <td>0</td>\n",
       "      <td>0</td>\n",
       "      <td>0</td>\n",
       "      <td>0</td>\n",
       "      <td>0</td>\n",
       "      <td>...</td>\n",
       "      <td>0</td>\n",
       "      <td>0</td>\n",
       "      <td>0</td>\n",
       "      <td>1</td>\n",
       "      <td>0</td>\n",
       "      <td>0</td>\n",
       "      <td>1</td>\n",
       "      <td>0</td>\n",
       "      <td>1</td>\n",
       "      <td>0</td>\n",
       "    </tr>\n",
       "  </tbody>\n",
       "</table>\n",
       "<p>5 rows × 71 columns</p>\n",
       "</div>"
      ],
      "text/plain": [
       "  record_date  power_consumption  dow_0  dow_1  dow_2  dow_3  dow_4  dow_5  \\\n",
       "0  2015-01-01          2900575.0      0      0      0      1      0      0   \n",
       "1  2015-01-02          3158211.0      0      0      0      0      1      0   \n",
       "2  2015-01-03          3596487.0      0      0      0      0      0      1   \n",
       "3  2015-01-04          3939672.0      0      0      0      0      0      0   \n",
       "4  2015-01-05          4101790.0      1      0      0      0      0      0   \n",
       "\n",
       "   dow_6  dom_1    ...      week_of_month_2  week_of_month_3  week_of_month_4  \\\n",
       "0      0      1    ...                    0                0                0   \n",
       "1      0      0    ...                    0                0                0   \n",
       "2      0      0    ...                    0                0                0   \n",
       "3      1      0    ...                    0                0                0   \n",
       "4      0      0    ...                    0                0                0   \n",
       "\n",
       "   period_of_month_1  period_of_month_2  period_of_month_3  \\\n",
       "0                  1                  0                  0   \n",
       "1                  1                  0                  0   \n",
       "2                  1                  0                  0   \n",
       "3                  1                  0                  0   \n",
       "4                  1                  0                  0   \n",
       "\n",
       "   period2_of_month_1  period2_of_month_2  Holiday_0  Holiday_1  \n",
       "0                   1                   0          0          1  \n",
       "1                   1                   0          1          0  \n",
       "2                   1                   0          1          0  \n",
       "3                   1                   0          1          0  \n",
       "4                   1                   0          1          0  \n",
       "\n",
       "[5 rows x 71 columns]"
      ]
     },
     "execution_count": 26,
     "metadata": {},
     "output_type": "execute_result"
    }
   ],
   "source": [
    "dummy_df.head()"
   ]
  },
  {
   "cell_type": "code",
   "execution_count": 27,
   "metadata": {},
   "outputs": [
    {
     "data": {
      "text/plain": [
       "639"
      ]
     },
     "execution_count": 27,
     "metadata": {},
     "output_type": "execute_result"
    }
   ],
   "source": [
    "len(dummy_df) ### 用"
   ]
  },
  {
   "cell_type": "code",
   "execution_count": 28,
   "metadata": {},
   "outputs": [],
   "source": [
    "data = dummy_df.drop('record_date',axis = 1)"
   ]
  },
  {
   "cell_type": "code",
   "execution_count": 29,
   "metadata": {},
   "outputs": [],
   "source": [
    "data_Y = data['power_consumption'].values"
   ]
  },
  {
   "cell_type": "code",
   "execution_count": 30,
   "metadata": {},
   "outputs": [],
   "source": [
    "### 数据预测处理 和标准化\n",
    "# 数据预处理\n",
    "data = data.values.astype('float32')\n",
    "max_value = np.max(data)\n",
    "min_value = np.min(data)\n",
    "scalar = max_value - min_value\n",
    "data = list(map(lambda x: x / scalar, data))"
   ]
  },
  {
   "cell_type": "code",
   "execution_count": 31,
   "metadata": {},
   "outputs": [],
   "source": [
    "data_Y  = data_Y.astype('float32')\n",
    "max_value = np.max(data_Y)\n",
    "min_value = np.min(data_Y)\n",
    "scalar = max_value - min_value\n",
    "data_Y = list(map(lambda x: x / scalar, data_Y))"
   ]
  },
  {
   "cell_type": "code",
   "execution_count": 32,
   "metadata": {},
   "outputs": [],
   "source": [
    "def create_dataset(dataset_X,dataset_Y,look_back=2):\n",
    "    dataX, dataY = [], []\n",
    "    for i in range(len(dataset_X) - look_back):\n",
    "        a = dataset_X[i:(i + look_back)]\n",
    "        dataX.append(a)\n",
    "        dataY.append(dataset_Y[i + look_back])\n",
    "    return np.array(dataX), np.array(dataY)"
   ]
  },
  {
   "cell_type": "code",
   "execution_count": 33,
   "metadata": {},
   "outputs": [],
   "source": [
    "### 用过去一个月 预测 下一天\n",
    "data_X,data_Y = create_dataset(dataset_X=data,dataset_Y = data_Y,look_back=30)"
   ]
  },
  {
   "cell_type": "code",
   "execution_count": 34,
   "metadata": {},
   "outputs": [
    {
     "data": {
      "text/plain": [
       "(609, 30, 70)"
      ]
     },
     "execution_count": 34,
     "metadata": {},
     "output_type": "execute_result"
    }
   ],
   "source": [
    "data_X.shape #### 609 data_size, 每一个data sequence 为 30， 70 个 特征"
   ]
  },
  {
   "cell_type": "code",
   "execution_count": 35,
   "metadata": {},
   "outputs": [
    {
     "data": {
      "text/plain": [
       "(609,)"
      ]
     },
     "execution_count": 35,
     "metadata": {},
     "output_type": "execute_result"
    }
   ],
   "source": [
    "data_Y.shape"
   ]
  },
  {
   "cell_type": "code",
   "execution_count": 36,
   "metadata": {},
   "outputs": [],
   "source": [
    "# 划分训练集和测试集，70% 作为训练集\n",
    "train_size = int(len(data_X) * 0.7)\n",
    "test_size = len(data_X) - train_size"
   ]
  },
  {
   "cell_type": "code",
   "execution_count": 37,
   "metadata": {},
   "outputs": [
    {
     "data": {
      "text/plain": [
       "426"
      ]
     },
     "execution_count": 37,
     "metadata": {},
     "output_type": "execute_result"
    }
   ],
   "source": [
    "train_size"
   ]
  },
  {
   "cell_type": "code",
   "execution_count": 38,
   "metadata": {},
   "outputs": [
    {
     "data": {
      "text/plain": [
       "183"
      ]
     },
     "execution_count": 38,
     "metadata": {},
     "output_type": "execute_result"
    }
   ],
   "source": [
    "test_size"
   ]
  },
  {
   "cell_type": "code",
   "execution_count": 39,
   "metadata": {},
   "outputs": [],
   "source": [
    "train_X = data_X[:train_size]\n",
    "train_Y = data_Y[:train_size]\n",
    "test_X = data_X[train_size:]\n",
    "test_Y = data_Y[train_size:]"
   ]
  },
  {
   "cell_type": "code",
   "execution_count": 40,
   "metadata": {},
   "outputs": [],
   "source": [
    "test_X = test_X"
   ]
  },
  {
   "cell_type": "code",
   "execution_count": 41,
   "metadata": {},
   "outputs": [
    {
     "data": {
      "text/plain": [
       "(426, 30, 70)"
      ]
     },
     "execution_count": 41,
     "metadata": {},
     "output_type": "execute_result"
    }
   ],
   "source": [
    "train_X.shape ### 426 个 samples, 30 个序列， 70 个特征"
   ]
  },
  {
   "cell_type": "code",
   "execution_count": 42,
   "metadata": {},
   "outputs": [],
   "source": [
    "train_X = train_X.reshape(-1,30,1,70)"
   ]
  },
  {
   "cell_type": "code",
   "execution_count": 43,
   "metadata": {},
   "outputs": [],
   "source": [
    "train_Y= train_Y.reshape(-1,1,1)"
   ]
  },
  {
   "cell_type": "code",
   "execution_count": 44,
   "metadata": {},
   "outputs": [],
   "source": [
    "# train_X = train_X.reshape(30,1,70)\n",
    "# train_Y = train_Y.reshape(-1,1)"
   ]
  },
  {
   "cell_type": "code",
   "execution_count": 45,
   "metadata": {},
   "outputs": [
    {
     "name": "stderr",
     "output_type": "stream",
     "text": [
      "D:\\Anaconda3\\lib\\site-packages\\h5py\\__init__.py:36: FutureWarning: Conversion of the second argument of issubdtype from `float` to `np.floating` is deprecated. In future, it will be treated as `np.float64 == np.dtype(float).type`.\n",
      "  from ._conv import register_converters as _register_converters\n"
     ]
    }
   ],
   "source": [
    "import tensorflow as tf\n",
    "import tensorflow.contrib.slim as slim\n",
    "# from utils.layers import lstm"
   ]
  },
  {
   "cell_type": "code",
   "execution_count": 46,
   "metadata": {},
   "outputs": [],
   "source": [
    "input_ph = tf.placeholder(shape=[30,1,70], dtype=tf.float32, name='input') ### 30 个序列，batch_size,70 个特征值\n",
    "target_ph = tf.placeholder(shape=[1,1], dtype=tf.float32, name='target') ## 映射到一个数据数值上"
   ]
  },
  {
   "cell_type": "code",
   "execution_count": 47,
   "metadata": {},
   "outputs": [],
   "source": [
    "### 输出的维度， 隐藏层， batch_size, keep_prob \n",
    "def lstm_cells(num_units, num_layers, batch_size,keep_prob = 1):\n",
    "    ### 首先创建一个 cells的函数\n",
    "    def build_cell(num_units,keep_prob):\n",
    "        cell = tf.nn.rnn_cell.LSTMCell(num_units)\n",
    "        ### cell, 进行 dropout\n",
    "        cell  = tf.nn.rnn_cell.DropoutWrapper(cell,output_keep_prob=keep_prob)\n",
    "        return cell\n",
    "    ###  一个cell  组合多个 cell 组成 一个 多层的 cell\n",
    "    cell  = tf.nn.rnn_cell.MultiRNNCell([build_cell(num_units,keep_prob) for _ in range(num_layers)])\n",
    "    init_state = cell.zero_state(batch_size,tf.float32)\n",
    "    return cell, init_state"
   ]
  },
  {
   "cell_type": "code",
   "execution_count": 48,
   "metadata": {},
   "outputs": [],
   "source": [
    "def lstm(x, num_units, num_layers,batch_size, init_state=None, keep_prob=1, time_major=True, scope='lstm', reuse=None):\n",
    "    with tf.variable_scope(scope, reuse=reuse):\n",
    "        cell, zero_state =lstm_cells(num_units, num_layers, batch_size, keep_prob)\n",
    "    if init_state is not None:\n",
    "        out, final_state = tf.nn.dynamic_rnn(cell, x, initial_state=init_state, time_major=time_major)\n",
    "    else:\n",
    "        out, final_state = tf.nn.dynamic_rnn(cell, x, initial_state=zero_state, time_major=time_major)\n",
    "    return out, final_state"
   ]
  },
  {
   "cell_type": "code",
   "execution_count": 49,
   "metadata": {},
   "outputs": [],
   "source": [
    "def lstm_reg(inputs, num_units, output_size=1, keep_prob=1, num_layers=2, scope='lstm_reg', reuse=None,batch_size = 1):\n",
    "    with tf.variable_scope(scope, reuse=reuse):\n",
    "        ## input shape : (sequence,batch,features)\n",
    "        net, state = lstm(inputs, num_units, num_layers,batch_size=batch_size, keep_prob=keep_prob)\n",
    "        # net (sequence,batch_size, num_units)\n",
    "        \n",
    "        ### 只取最后的sequence\n",
    "        net = net[-1] ## (batch,feature)\n",
    "#         s, b, n = net.get_shape().as_list() # net (sequence,batch_size, num_units)\n",
    "        #net = tf.reshape(net, (-1, num_units)) # (sequence,num_units)\n",
    "        \n",
    "        net = slim.fully_connected(net, output_size, activation_fn=None, scope='regression')\n",
    "        ### (batch_size,1)\n",
    "        return net"
   ]
  },
  {
   "cell_type": "code",
   "execution_count": 50,
   "metadata": {},
   "outputs": [],
   "source": [
    "out = lstm_reg(input_ph,num_units=5,batch_size=1,reuse=tf.AUTO_REUSE)"
   ]
  },
  {
   "cell_type": "code",
   "execution_count": 51,
   "metadata": {},
   "outputs": [
    {
     "data": {
      "text/plain": [
       "TensorShape([Dimension(1), Dimension(1)])"
      ]
     },
     "execution_count": 51,
     "metadata": {},
     "output_type": "execute_result"
    }
   ],
   "source": [
    "out.shape"
   ]
  },
  {
   "cell_type": "code",
   "execution_count": 52,
   "metadata": {},
   "outputs": [],
   "source": [
    "loss = tf.losses.mean_squared_error(target_ph, out)"
   ]
  },
  {
   "cell_type": "code",
   "execution_count": 53,
   "metadata": {},
   "outputs": [],
   "source": [
    "opt = tf.train.AdamOptimizer(1e-2)"
   ]
  },
  {
   "cell_type": "code",
   "execution_count": 54,
   "metadata": {},
   "outputs": [],
   "source": [
    "# gradients = opt.compute_gradients(loss)\n",
    "# capped_gradients = [(tf.clip_by_value(grad, -1.0, 1.0), var) for grad, var in gradients if grad is not None]\n",
    "# train_op = opt.apply_gradients(capped_gradients)"
   ]
  },
  {
   "cell_type": "code",
   "execution_count": 55,
   "metadata": {},
   "outputs": [],
   "source": [
    "train_op = opt.minimize(loss)"
   ]
  },
  {
   "cell_type": "code",
   "execution_count": 56,
   "metadata": {},
   "outputs": [],
   "source": [
    "sess = tf.Session()"
   ]
  },
  {
   "cell_type": "code",
   "execution_count": 57,
   "metadata": {},
   "outputs": [],
   "source": [
    "sess.run(tf.global_variables_initializer())"
   ]
  },
  {
   "cell_type": "code",
   "execution_count": 58,
   "metadata": {},
   "outputs": [
    {
     "data": {
      "text/plain": [
       "0.9073811"
      ]
     },
     "execution_count": 58,
     "metadata": {},
     "output_type": "execute_result"
    }
   ],
   "source": [
    "sess.run(loss,feed_dict={input_ph:train_X[0],target_ph:train_Y[0]})"
   ]
  },
  {
   "cell_type": "code",
   "execution_count": 59,
   "metadata": {},
   "outputs": [],
   "source": [
    "test_X = test_X.reshape(-1,30,1,70)\n",
    "test_Y= test_Y.reshape(-1,1,1)"
   ]
  },
  {
   "cell_type": "code",
   "execution_count": 60,
   "metadata": {},
   "outputs": [],
   "source": [
    "test_Y = test_Y.flatten()"
   ]
  },
  {
   "cell_type": "code",
   "execution_count": 61,
   "metadata": {
    "scrolled": false
   },
   "outputs": [
    {
     "name": "stdout",
     "output_type": "stream",
     "text": [
      "Epoch: 20, Train_Loss: 0.01776, Test_Loss: 0.01038\n",
      "Epoch: 40, Train_Loss: 0.00883, Test_Loss: 0.01384\n",
      "Epoch: 60, Train_Loss: 0.00823, Test_Loss: 0.01935\n",
      "Epoch: 80, Train_Loss: 0.00822, Test_Loss: 0.00574\n",
      "Epoch: 100, Train_Loss: 0.00755, Test_Loss: 0.00542\n",
      "Epoch: 120, Train_Loss: 0.00696, Test_Loss: 0.00868\n",
      "Epoch: 140, Train_Loss: 0.00664, Test_Loss: 0.05592\n",
      "Epoch: 160, Train_Loss: 0.00847, Test_Loss: 0.00815\n"
     ]
    }
   ],
   "source": [
    "for epoch in range(160):\n",
    "    losses = []\n",
    "    for (seq_X,seq_Y) in zip(train_X,train_Y):\n",
    "        feed_dict={input_ph:seq_X,target_ph:seq_Y}\n",
    "        # training\n",
    "        sess.run(train_op,feed_dict=feed_dict)\n",
    "        loss_value = sess.run(loss, feed_dict=feed_dict)\n",
    "        losses.append(loss_value)\n",
    "#         print(losses)\n",
    "    if (epoch + 1) % 20 == 0:\n",
    "        \n",
    "        ### test_loss\n",
    "        test_pred =[]\n",
    "        for test_data in test_X:\n",
    "             test_pred.append(sess.run(out,feed_dict={input_ph:test_data})[0][0])\n",
    "        mean_squar_error = np.mean((test_Y-np.array(test_pred))**2)\n",
    "        print('Epoch: {}, Train_Loss: {:.5f}, Test_Loss: {:.5f}'.format(epoch + 1,np.mean(losses),mean_squar_error))\n",
    "    if mean_squar_error<0.0075:\n",
    "        break"
   ]
  },
  {
   "cell_type": "code",
   "execution_count": 62,
   "metadata": {},
   "outputs": [],
   "source": [
    "train_records = '''\n",
    "Epoch: 20, Train_Loss: 0.02148, Test_Loss: 0.01080\n",
    "Epoch: 40, Train_Loss: 0.00899, Test_Loss: 0.01149\n",
    "Epoch: 60, Train_Loss: 0.00891, Test_Loss: 0.01015\n",
    "Epoch: 80, Train_Loss: 0.00752, Test_Loss: 0.00943\n",
    "Epoch: 100, Train_Loss: 0.00810, Test_Loss: 0.00819\n",
    "Epoch: 120, Train_Loss: 0.00701, Test_Loss: 0.00772\n",
    "Epoch: 140, Train_Loss: 0.00586, Test_Loss: 0.00757\n",
    "Epoch: 160, Train_Loss: 0.00677, Test_Loss: 0.00805\n",
    "Epoch: 180, Train_Loss: 0.00570, Test_Loss: 0.01332\n",
    "Epoch: 200, Train_Loss: 0.00637, Test_Loss: 0.01353\n",
    "Epoch: 220, Train_Loss: 0.00565, Test_Loss: 0.00783\n",
    "Epoch: 240, Train_Loss: 0.00581, Test_Loss: 0.01304\n",
    "Epoch: 260, Train_Loss: 0.00567, Test_Loss: 0.01179\n",
    "Epoch: 280, Train_Loss: 0.00512, Test_Loss: 0.01154\n",
    "Epoch: 300, Train_Loss: 0.00516, Test_Loss: 0.01404\n",
    "Epoch: 320, Train_Loss: 0.00515, Test_Loss: 0.01469\n",
    "Epoch: 340, Train_Loss: 0.00657, Test_Loss: 0.03811\n",
    "Epoch: 360, Train_Loss: 0.00536, Test_Loss: 0.00978\n",
    "Epoch: 380, Train_Loss: 0.00509, Test_Loss: 0.01209\n",
    "Epoch: 400, Train_Loss: 0.00535, Test_Loss: 0.01022\n",
    "Epoch: 420, Train_Loss: 0.00492, Test_Loss: 0.01180\n",
    "Epoch: 440, Train_Loss: 0.00614, Test_Loss: 0.01589\n",
    "Epoch: 460, Train_Loss: 0.00518, Test_Loss: 0.01772\n",
    "Epoch: 480, Train_Loss: 0.00575, Test_Loss: 0.01734\n",
    "Epoch: 500, Train_Loss: 0.00506, Test_Loss: 0.01451'''"
   ]
  },
  {
   "cell_type": "code",
   "execution_count": 63,
   "metadata": {},
   "outputs": [],
   "source": [
    "train_records = train_records.split(sep='\\n')\n",
    "train_records = train_records[1:]\n",
    "test_losses = [record[-7:] for record in train_records]\n",
    "test_losses = np.array(test_losses).astype('float')"
   ]
  },
  {
   "cell_type": "code",
   "execution_count": 64,
   "metadata": {},
   "outputs": [],
   "source": [
    "train_losses = [record.split(',')[1][-7:] for record in train_records]\n",
    "train_losses = np.array(train_losses).astype('float')"
   ]
  },
  {
   "cell_type": "code",
   "execution_count": 65,
   "metadata": {},
   "outputs": [],
   "source": [
    "import matplotlib.pyplot as plt\n",
    "%matplotlib inline"
   ]
  },
  {
   "cell_type": "code",
   "execution_count": 66,
   "metadata": {},
   "outputs": [
    {
     "data": {
      "image/png": "[encoded data removed]",
      "text/plain": [
       "<matplotlib.figure.Figure at 0x20e2db9e438>"
      ]
     },
     "metadata": {},
     "output_type": "display_data"
    }
   ],
   "source": [
    "_=plt.figure(figsize=(15,5))\n",
    "_=plt.title('Loss')\n",
    "_=plt.plot(train_losses ,label = 'train_loss')\n",
    "_=plt.plot(test_losses,label = 'test_loss')\n",
    "_=plt.text(np.argmin(test_losses),np.min(test_losses),s='Epoch:{}, Loss:{:.5f}'.format(np.argmin(test_losses)*20,np.min(test_losses)))\n",
    "_=plt.plot(np.argmin(test_losses),np.min(test_losses),marker = 'o',fillstyle = 'none',markersize=10)\n",
    "_=plt.legend(loc = 'upper right')"
   ]
  },
  {
   "cell_type": "code",
   "execution_count": 67,
   "metadata": {},
   "outputs": [
    {
     "data": {
      "text/plain": [
       "'First_Save/model.ckpt-160'"
      ]
     },
     "execution_count": 67,
     "metadata": {},
     "output_type": "execute_result"
    }
   ],
   "source": [
    "saver = tf.train.Saver()### 创建 Saver 对象\n",
    "saver.save(sess=sess, save_path='First_Save/model.ckpt', global_step=(epoch + 1))"
   ]
  },
  {
   "cell_type": "code",
   "execution_count": 68,
   "metadata": {},
   "outputs": [],
   "source": [
    "train_pred =[]\n",
    "for train_data in train_X:\n",
    "     train_pred.append(sess.run(out,feed_dict={input_ph:train_data})[0][0])"
   ]
  },
  {
   "cell_type": "code",
   "execution_count": 69,
   "metadata": {},
   "outputs": [],
   "source": [
    "mean_squar_error = np.mean((train_Y-train_pred)**2)"
   ]
  },
  {
   "cell_type": "code",
   "execution_count": 71,
   "metadata": {},
   "outputs": [],
   "source": [
    "train_Y = train_Y.flatten()"
   ]
  },
  {
   "cell_type": "code",
   "execution_count": 73,
   "metadata": {},
   "outputs": [
    {
     "data": {
      "text/plain": [
       "<matplotlib.figure.Figure at 0x20e30fc66d8>"
      ]
     },
     "execution_count": 73,
     "metadata": {},
     "output_type": "execute_result"
    },
    {
     "data": {
      "text/plain": [
       "Text(0.5,1,'RNN Time Series Regression - MSE:0.04413')"
      ]
     },
     "execution_count": 73,
     "metadata": {},
     "output_type": "execute_result"
    },
    {
     "data": {
      "text/plain": [
       "[<matplotlib.lines.Line2D at 0x20e31009240>]"
      ]
     },
     "execution_count": 73,
     "metadata": {},
     "output_type": "execute_result"
    },
    {
     "data": {
      "text/plain": [
       "[<matplotlib.lines.Line2D at 0x20e31009128>]"
      ]
     },
     "execution_count": 73,
     "metadata": {},
     "output_type": "execute_result"
    },
    {
     "data": {
      "text/plain": [
       "<matplotlib.legend.Legend at 0x20e310096d8>"
      ]
     },
     "execution_count": 73,
     "metadata": {},
     "output_type": "execute_result"
    },
    {
     "data": {
      "image/png": "[encoded data removed]",
      "text/plain": [
       "<matplotlib.figure.Figure at 0x20e30fc66d8>"
      ]
     },
     "metadata": {},
     "output_type": "display_data"
    }
   ],
   "source": [
    "plt.figure(figsize=(12,5))\n",
    "plt.title('RNN Time Series Regression - MSE:{:.5f}'.format(mean_squar_error))\n",
    "plt.plot(train_Y ,label = 'real')\n",
    "plt.plot(train_pred,label = 'prediction')\n",
    "plt.legend(loc = 'upper right')"
   ]
  },
  {
   "cell_type": "markdown",
   "metadata": {},
   "source": [
    "##### Test evaluation"
   ]
  },
  {
   "cell_type": "code",
   "execution_count": 74,
   "metadata": {},
   "outputs": [
    {
     "data": {
      "text/plain": [
       "(183, 30, 1, 70)"
      ]
     },
     "execution_count": 74,
     "metadata": {},
     "output_type": "execute_result"
    }
   ],
   "source": [
    "test_X.shape"
   ]
  },
  {
   "cell_type": "code",
   "execution_count": 75,
   "metadata": {},
   "outputs": [],
   "source": [
    "test_X = test_X.reshape(-1,30,1,70)"
   ]
  },
  {
   "cell_type": "code",
   "execution_count": 76,
   "metadata": {},
   "outputs": [],
   "source": [
    "test_Y= test_Y.reshape(-1,1,1)"
   ]
  },
  {
   "cell_type": "code",
   "execution_count": 77,
   "metadata": {},
   "outputs": [],
   "source": [
    "test_pred =[]\n",
    "for test_data in test_X:\n",
    "     test_pred.append(sess.run(out,feed_dict={input_ph:test_data})[0][0])"
   ]
  },
  {
   "cell_type": "code",
   "execution_count": 78,
   "metadata": {},
   "outputs": [],
   "source": [
    "test_Y = test_Y.flatten()"
   ]
  },
  {
   "cell_type": "code",
   "execution_count": 79,
   "metadata": {},
   "outputs": [],
   "source": [
    "mean_squar_error = np.mean((test_Y-np.array(test_pred))**2)"
   ]
  },
  {
   "cell_type": "code",
   "execution_count": 81,
   "metadata": {},
   "outputs": [
    {
     "data": {
      "text/plain": [
       "<matplotlib.figure.Figure at 0x20e31044dd8>"
      ]
     },
     "execution_count": 81,
     "metadata": {},
     "output_type": "execute_result"
    },
    {
     "data": {
      "text/plain": [
       "Text(0.5,1,'RNN Time Series Regression - Testing MSE:0.00815')"
      ]
     },
     "execution_count": 81,
     "metadata": {},
     "output_type": "execute_result"
    },
    {
     "data": {
      "text/plain": [
       "[<matplotlib.lines.Line2D at 0x20e31128048>]"
      ]
     },
     "execution_count": 81,
     "metadata": {},
     "output_type": "execute_result"
    },
    {
     "data": {
      "text/plain": [
       "[<matplotlib.lines.Line2D at 0x20e310dbeb8>]"
      ]
     },
     "execution_count": 81,
     "metadata": {},
     "output_type": "execute_result"
    },
    {
     "data": {
      "text/plain": [
       "<matplotlib.legend.Legend at 0x20e31128550>"
      ]
     },
     "execution_count": 81,
     "metadata": {},
     "output_type": "execute_result"
    },
    {
     "data": {
      "image/png": "[encoded data removed]",
      "text/plain": [
       "<matplotlib.figure.Figure at 0x20e31044dd8>"
      ]
     },
     "metadata": {},
     "output_type": "display_data"
    }
   ],
   "source": [
    "plt.figure(figsize=(12,5))\n",
    "plt.title('RNN Time Series Regression - Testing MSE:{:.5f}'.format(mean_squar_error))\n",
    "plt.plot(test_Y ,label = 'real')\n",
    "plt.plot(test_pred,label = 'prediction')\n",
    "plt.legend(loc = 'upper right')"
   ]
  },
  {
   "cell_type": "code",
   "execution_count": null,
   "metadata": {},
   "outputs": [],
   "source": []
  }
 ],
 "metadata": {
  "kernelspec": {
   "display_name": "Python 3",
   "language": "python",
   "name": "python3"
  },
  "language_info": {
   "codemirror_mode": {
    "name": "ipython",
    "version": 3
   },
   "file_extension": ".py",
   "mimetype": "text/x-python",
   "name": "python",
   "nbconvert_exporter": "python",
   "pygments_lexer": "ipython3",
   "version": "3.6.5"
  }
 },
 "nbformat": 4,
 "nbformat_minor": 2
}
